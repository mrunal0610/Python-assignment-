{
 "cells": [
  {
   "cell_type": "markdown",
   "id": "92cb45fe",
   "metadata": {},
   "source": [
    "### Q.1) Write a python program to calculate the length of a string."
   ]
  },
  {
   "cell_type": "code",
   "execution_count": 1,
   "id": "a56f7d0b",
   "metadata": {},
   "outputs": [
    {
     "name": "stdout",
     "output_type": "stream",
     "text": [
      "Enter the string:Tomorrow is the first blank page of a 365 page book.\n"
     ]
    }
   ],
   "source": [
    "s=input(\"Enter the string:\")"
   ]
  },
  {
   "cell_type": "code",
   "execution_count": 2,
   "id": "33ca98f8",
   "metadata": {},
   "outputs": [
    {
     "name": "stdout",
     "output_type": "stream",
     "text": [
      "Tomorrow is the first blank page of a 365 page book.\n"
     ]
    }
   ],
   "source": [
    "print(s)"
   ]
  },
  {
   "cell_type": "markdown",
   "id": "09a0f4c6",
   "metadata": {},
   "source": [
    "### Length of the string"
   ]
  },
  {
   "cell_type": "code",
   "execution_count": 3,
   "id": "08098290",
   "metadata": {},
   "outputs": [],
   "source": [
    "l1=len(s)"
   ]
  },
  {
   "cell_type": "code",
   "execution_count": 4,
   "id": "2fb2b323",
   "metadata": {},
   "outputs": [
    {
     "name": "stdout",
     "output_type": "stream",
     "text": [
      "Length of the string: 52\n"
     ]
    }
   ],
   "source": [
    "print (\"Length of the string:\" ,l1)"
   ]
  },
  {
   "cell_type": "markdown",
   "id": "79700f09",
   "metadata": {},
   "source": [
    "### Q.2) Python program to calculate the square root."
   ]
  },
  {
   "cell_type": "code",
   "execution_count": 7,
   "id": "0530c718",
   "metadata": {},
   "outputs": [
    {
     "name": "stdout",
     "output_type": "stream",
     "text": [
      "Enter a number:64\n",
      "The square root of {num} is  8.0\n"
     ]
    }
   ],
   "source": [
    "import math\n",
    "num = int(input(\"Enter a number:\"))\n",
    "sqRoot = math.sqrt(num)\n",
    "print (\"The square root of {num} is \",sqRoot )"
   ]
  },
  {
   "cell_type": "markdown",
   "id": "72f90c89",
   "metadata": {},
   "source": [
    "### Q.3) Write a python program to convert temperature in Celsius to temperature in Fahrenheit."
   ]
  },
  {
   "cell_type": "code",
   "execution_count": 13,
   "id": "c11ff66e",
   "metadata": {},
   "outputs": [
    {
     "name": "stdout",
     "output_type": "stream",
     "text": [
      "48 degree celsius is equal to 118.4 degree fahrenheit \n"
     ]
    }
   ],
   "source": [
    "celsius=48\n",
    "fahrenheit=(celsius*1.8)+32\n",
    "print(str(celsius) + \" degree celsius is equal to \" + str(fahrenheit) + \" degree fahrenheit \")"
   ]
  },
  {
   "cell_type": "markdown",
   "id": "1ca8bbac",
   "metadata": {},
   "source": [
    "### Q.4) Write a data type needed for given data. (10,4.5,2+6j)"
   ]
  },
  {
   "cell_type": "code",
   "execution_count": 14,
   "id": "86c3f91d",
   "metadata": {},
   "outputs": [],
   "source": [
    "num=10"
   ]
  },
  {
   "cell_type": "code",
   "execution_count": 15,
   "id": "9b7dd5c8",
   "metadata": {},
   "outputs": [
    {
     "data": {
      "text/plain": [
       "int"
      ]
     },
     "execution_count": 15,
     "metadata": {},
     "output_type": "execute_result"
    }
   ],
   "source": [
    "type(num)"
   ]
  },
  {
   "cell_type": "code",
   "execution_count": 16,
   "id": "70b75534",
   "metadata": {},
   "outputs": [],
   "source": [
    "num=4.5"
   ]
  },
  {
   "cell_type": "code",
   "execution_count": 17,
   "id": "3934eeca",
   "metadata": {},
   "outputs": [
    {
     "data": {
      "text/plain": [
       "float"
      ]
     },
     "execution_count": 17,
     "metadata": {},
     "output_type": "execute_result"
    }
   ],
   "source": [
    "type(num)"
   ]
  },
  {
   "cell_type": "code",
   "execution_count": 18,
   "id": "f4bcc731",
   "metadata": {},
   "outputs": [],
   "source": [
    "num=2+6j"
   ]
  },
  {
   "cell_type": "code",
   "execution_count": 19,
   "id": "516e2387",
   "metadata": {},
   "outputs": [
    {
     "data": {
      "text/plain": [
       "complex"
      ]
     },
     "execution_count": 19,
     "metadata": {},
     "output_type": "execute_result"
    }
   ],
   "source": [
    "type(num)"
   ]
  }
 ],
 "metadata": {
  "kernelspec": {
   "display_name": "Python 3 (ipykernel)",
   "language": "python",
   "name": "python3"
  },
  "language_info": {
   "codemirror_mode": {
    "name": "ipython",
    "version": 3
   },
   "file_extension": ".py",
   "mimetype": "text/x-python",
   "name": "python",
   "nbconvert_exporter": "python",
   "pygments_lexer": "ipython3",
   "version": "3.9.13"
  }
 },
 "nbformat": 4,
 "nbformat_minor": 5
}
